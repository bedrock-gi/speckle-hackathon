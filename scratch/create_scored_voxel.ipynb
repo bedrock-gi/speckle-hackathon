{
 "cells": [
  {
   "cell_type": "code",
   "execution_count": 16,
   "metadata": {},
   "outputs": [],
   "source": [
    "from typing import Dict, List\n",
    "import pandas as pd\n",
    "import datetime as dt\n",
    "import os\n",
    "import re\n",
    "import json\n",
    "from dotenv import load_dotenv\n",
    "import pandas as pd\n",
    "\n",
    "from specklepy.api.client import SpeckleClient\n",
    "from specklepy.api.credentials import get_default_account\n",
    "from specklepy.objects import Base\n",
    "from specklepy.objects.geometry import Point, Line\n",
    "from specklepy.transports.server import ServerTransport\n",
    "from specklepy.api import operations\n",
    "\n",
    "import numpy as np"
   ]
  },
  {
   "cell_type": "code",
   "execution_count": 17,
   "metadata": {},
   "outputs": [],
   "source": [
    "speckle_server = \"app.speckle.systems\"\n",
    "speckle_token = os.environ[\"TOKEN\"]\n",
    "client = SpeckleClient(host=speckle_server)\n",
    "client.authenticate_with_token(speckle_token)\n",
    "stream_id = \"013aaf06e7\"\n",
    "transport = ServerTransport(client=client, stream_id=stream_id)"
   ]
  },
  {
   "cell_type": "code",
   "execution_count": 18,
   "metadata": {},
   "outputs": [],
   "source": [
    "obj_id = \"13554205562711f3734b78ecc99eeb8b\"\n",
    "obj = operations.receive(obj_id, transport)"
   ]
  },
  {
   "cell_type": "code",
   "execution_count": 29,
   "metadata": {},
   "outputs": [
    {
     "data": {
      "text/plain": [
       "array([[-91.5685915 , 527.56043853,  43.        ],\n",
       "       [-91.5685915 , 527.56043853,  33.        ],\n",
       "       [-46.22010116, 506.50065639,  43.        ],\n",
       "       ...,\n",
       "       [976.91745897, 805.00346686,  42.99990058],\n",
       "       [967.98936093, 755.34748368,  42.93289147],\n",
       "       [974.72286551, 755.05165248,  42.99990058]])"
      ]
     },
     "execution_count": 29,
     "metadata": {},
     "output_type": "execute_result"
    }
   ],
   "source": [
    "vertices = np.array(obj.vertices).reshape(-1, 3).astype(float)\n",
    "x_shift = \"837755\"\n",
    "y_shift = \"819780\"\n",
    "z_shift = \"-50\"\n",
    "\n",
    "vertices[:, 0] = vertices[:, 0] - float(x_shift)\n",
    "vertices[:, 1] = vertices[:, 1] - float(y_shift)\n",
    "vertices[:, 2] = vertices[:, 2] - float(z_shift)\n",
    "\n",
    "vertices"
   ]
  },
  {
   "cell_type": "code",
   "execution_count": 27,
   "metadata": {},
   "outputs": [],
   "source": []
  },
  {
   "cell_type": "code",
   "execution_count": null,
   "metadata": {},
   "outputs": [],
   "source": []
  }
 ],
 "metadata": {
  "kernelspec": {
   "display_name": "venv",
   "language": "python",
   "name": "python3"
  },
  "language_info": {
   "codemirror_mode": {
    "name": "ipython",
    "version": 3
   },
   "file_extension": ".py",
   "mimetype": "text/x-python",
   "name": "python",
   "nbconvert_exporter": "python",
   "pygments_lexer": "ipython3",
   "version": "3.11.9"
  }
 },
 "nbformat": 4,
 "nbformat_minor": 2
}
