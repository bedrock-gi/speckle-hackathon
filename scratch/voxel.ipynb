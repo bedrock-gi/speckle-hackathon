{
 "cells": [
  {
   "cell_type": "code",
   "execution_count": 133,
   "metadata": {},
   "outputs": [],
   "source": [
    "from typing import Dict, List\n",
    "import pandas as pd\n",
    "import datetime as dt\n",
    "import os\n",
    "import re\n",
    "import json\n",
    "from dotenv import load_dotenv\n",
    "import pandas as pd\n",
    "\n",
    "from specklepy.api.client import SpeckleClient\n",
    "from specklepy.api.credentials import get_default_account\n",
    "from specklepy.objects import Base\n",
    "from specklepy.objects.geometry import Point, Line\n",
    "from specklepy.transports.server import ServerTransport\n",
    "from specklepy.api import operations"
   ]
  },
  {
   "cell_type": "code",
   "execution_count": 134,
   "metadata": {},
   "outputs": [],
   "source": [
    "speckle_server = \"app.speckle.systems\"\n",
    "speckle_token = os.environ[\"TOKEN\"]\n",
    "client = SpeckleClient(host=speckle_server)\n",
    "client.authenticate_with_token(speckle_token)\n",
    "stream_id = \"013aaf06e7\"\n",
    "transport = ServerTransport(client=client, stream_id=stream_id)"
   ]
  },
  {
   "cell_type": "code",
   "execution_count": 135,
   "metadata": {},
   "outputs": [],
   "source": [
    "\n",
    "object_id = \"eb80959eb9eebaafb7a4f1db38e841d1\"\n",
    "obj = client.object.get(stream_id, object_id)\n",
    "\n"
   ]
  },
  {
   "cell_type": "code",
   "execution_count": 136,
   "metadata": {},
   "outputs": [],
   "source": [
    "from specklepy.serialization.base_object_serializer import BaseObjectSerializer\n",
    "serializer = BaseObjectSerializer()"
   ]
  },
  {
   "cell_type": "code",
   "execution_count": 137,
   "metadata": {},
   "outputs": [
    {
     "data": {
      "text/plain": [
       "{'id': 'f3758c29e2daf3477efd27e414e5fb8d',\n",
       " 'speckle_type': 'Base',\n",
       " 'totalChildrenCount': 0,\n",
       " 'Bottom z (mPD)': -50,\n",
       " 'Domain Margin (m)': 20,\n",
       " 'Max Easting (m)': 838845,\n",
       " 'Max Northing (m)': 821245,\n",
       " 'Min Easting (m)': 837755,\n",
       " 'Min Northing (m)': 819780,\n",
       " 'Top z (mPD)': 0,\n",
       " 'Voxel Size (m)': 5,\n",
       " 'applicationId': None,\n",
       " 'units': None}"
      ]
     },
     "execution_count": 137,
     "metadata": {},
     "output_type": "execute_result"
    }
   ],
   "source": [
    "hash_id, obj_data = serializer.traverse_base(obj)\n",
    "obj_data[\"userStrings\"] "
   ]
  },
  {
   "cell_type": "code",
   "execution_count": 138,
   "metadata": {},
   "outputs": [
    {
     "data": {
      "text/plain": [
       "(218, 293, 10)"
      ]
     },
     "execution_count": 138,
     "metadata": {},
     "output_type": "execute_result"
    }
   ],
   "source": [
    "x_min = obj_data[\"userStrings\"]['Min Easting (m)']\n",
    "x_max = obj_data[\"userStrings\"]['Max Easting (m)']\n",
    "y_min = obj_data[\"userStrings\"]['Min Northing (m)']\n",
    "y_max = obj_data[\"userStrings\"]['Max Northing (m)']\n",
    "z_min = obj_data[\"userStrings\"]['Bottom z (mPD)']\n",
    "z_max = obj_data[\"userStrings\"]['Top z (mPD)']\n",
    "voxel_size = obj_data[\"userStrings\"][\"Voxel Size (m)\"]\n",
    "\n",
    "x_points = int((x_max - x_min) / voxel_size)\n",
    "y_points = int((y_max - y_min) / voxel_size)\n",
    "z_points = int((z_max - z_min) / voxel_size)\n",
    "\n",
    "x_points, y_points, z_points\n"
   ]
  },
  {
   "cell_type": "code",
   "execution_count": 139,
   "metadata": {},
   "outputs": [],
   "source": [
    "object_id = \"1a98b24773c42b01be65b71f63ee14bc\"\n",
    "start_end_points = operations.receive(object_id, transport)"
   ]
  },
  {
   "cell_type": "code",
   "execution_count": 140,
   "metadata": {},
   "outputs": [],
   "source": [
    "_, start_end_points_data = serializer.traverse_base(start_end_points)\n",
    "with open(\"start_end_points.json\", \"w\") as f:\n",
    "    json.dump(start_end_points_data, f)"
   ]
  },
  {
   "cell_type": "code",
   "execution_count": 141,
   "metadata": {},
   "outputs": [],
   "source": [
    "start_point = start_end_points_data[\"elements\"][1][\"elements\"][0]\n",
    "end_points = start_end_points_data[\"elements\"][0]\n",
    "\n",
    "start = {\n",
    "    \"x\" : start_point[\"x\"],\n",
    "    \"y\" : start_point[\"y\"],\n",
    "    \"z\" : start_point[\"z\"]\n",
    "}\n",
    "end_points = [\n",
    "    {\n",
    "        \"x\" : end_point[\"x\"],\n",
    "        \"y\" : end_point[\"y\"],\n",
    "        \"z\" : end_point[\"z\"]\n",
    "    }\n",
    "    for end_point in end_points[\"elements\"]\n",
    "]"
   ]
  },
  {
   "cell_type": "code",
   "execution_count": 142,
   "metadata": {},
   "outputs": [
    {
     "data": {
      "text/plain": [
       "[{'x': 838545.0, 'y': 821225.0, 'z': 0.0},\n",
       " {'x': 837775.0, 'y': 820755.0, 'z': 0.0}]"
      ]
     },
     "execution_count": 142,
     "metadata": {},
     "output_type": "execute_result"
    }
   ],
   "source": [
    "end_points"
   ]
  },
  {
   "cell_type": "code",
   "execution_count": 143,
   "metadata": {},
   "outputs": [],
   "source": [
    "start_index = {\n",
    "    \"x\" : int((start[\"x\"] - x_min) / voxel_size),\n",
    "    \"y\" : int((start[\"y\"] - y_min) / voxel_size),\n",
    "    \"z\" : int((start[\"z\"] - z_min) / voxel_size)\n",
    "}"
   ]
  },
  {
   "cell_type": "code",
   "execution_count": 144,
   "metadata": {},
   "outputs": [
    {
     "data": {
      "text/plain": [
       "{'x': 214, 'y': 4, 'z': 10}"
      ]
     },
     "execution_count": 144,
     "metadata": {},
     "output_type": "execute_result"
    }
   ],
   "source": [
    "start_index"
   ]
  },
  {
   "cell_type": "code",
   "execution_count": 146,
   "metadata": {},
   "outputs": [
    {
     "data": {
      "text/plain": [
       "({'x': 214, 'y': 4, 'z': 10},\n",
       " [{'x': 158, 'y': 289, 'z': 10}, {'x': 4, 'y': 195, 'z': 10}])"
      ]
     },
     "execution_count": 146,
     "metadata": {},
     "output_type": "execute_result"
    }
   ],
   "source": [
    "end_indices = [\n",
    "    {\n",
    "        \"x\" : int((end_point[\"x\"] - x_min) / voxel_size),\n",
    "        \"y\" : int((end_point[\"y\"] - y_min) / voxel_size),\n",
    "        \"z\" : int((end_point[\"z\"] - z_min) / voxel_size)\n",
    "    }\n",
    "    for end_point in end_points\n",
    "]\n",
    "\n"
   ]
  },
  {
   "cell_type": "code",
   "execution_count": null,
   "metadata": {},
   "outputs": [],
   "source": [
    "# In summary the data is as follows:\n",
    "\n",
    "\n",
    "\n"
   ]
  }
 ],
 "metadata": {
  "kernelspec": {
   "display_name": "venv",
   "language": "python",
   "name": "python3"
  },
  "language_info": {
   "codemirror_mode": {
    "name": "ipython",
    "version": 3
   },
   "file_extension": ".py",
   "mimetype": "text/x-python",
   "name": "python",
   "nbconvert_exporter": "python",
   "pygments_lexer": "ipython3",
   "version": "3.11.9"
  }
 },
 "nbformat": 4,
 "nbformat_minor": 2
}
