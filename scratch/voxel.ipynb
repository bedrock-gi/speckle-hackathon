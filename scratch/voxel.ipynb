{
 "cells": [
  {
   "cell_type": "code",
   "execution_count": 154,
   "metadata": {},
   "outputs": [],
   "source": [
    "from typing import Dict, List\n",
    "import pandas as pd\n",
    "import datetime as dt\n",
    "import os\n",
    "import json\n",
    "from dotenv import load_dotenv\n",
    "import pandas as pd\n",
    "\n",
    "from specklepy.api.client import SpeckleClient\n",
    "from specklepy.api.credentials import get_default_account\n",
    "from specklepy.objects import Base\n",
    "from specklepy.objects.geometry import Point, Line\n",
    "from specklepy.transports.server import ServerTransport\n",
    "from specklepy.api import operations\n",
    "import itertools"
   ]
  },
  {
   "cell_type": "code",
   "execution_count": 155,
   "metadata": {},
   "outputs": [],
   "source": [
    "\n",
    "speckle_server = \"app.speckle.systems\"\n",
    "speckle_token = os.environ[\"TOKEN\"]\n",
    "client = SpeckleClient(host=speckle_server)\n",
    "client.authenticate_with_token(speckle_token)\n",
    "stream_id = \"013aaf06e7\"\n",
    "transport = ServerTransport(client=client, stream_id=stream_id)"
   ]
  },
  {
   "cell_type": "code",
   "execution_count": 156,
   "metadata": {},
   "outputs": [],
   "source": [
    "\n",
    "object_id = \"eb80959eb9eebaafb7a4f1db38e841d1\"\n",
    "obj = client.object.get(stream_id, object_id)"
   ]
  },
  {
   "cell_type": "code",
   "execution_count": 157,
   "metadata": {},
   "outputs": [],
   "source": [
    "from specklepy.serialization.base_object_serializer import BaseObjectSerializer\n",
    "serializer = BaseObjectSerializer()"
   ]
  },
  {
   "cell_type": "code",
   "execution_count": 158,
   "metadata": {},
   "outputs": [
    {
     "data": {
      "text/plain": [
       "{'id': 'f3758c29e2daf3477efd27e414e5fb8d',\n",
       " 'speckle_type': 'Base',\n",
       " 'totalChildrenCount': 0,\n",
       " 'Bottom z (mPD)': -50,\n",
       " 'Domain Margin (m)': 20,\n",
       " 'Max Easting (m)': 838845,\n",
       " 'Max Northing (m)': 821245,\n",
       " 'Min Easting (m)': 837755,\n",
       " 'Min Northing (m)': 819780,\n",
       " 'Top z (mPD)': 0,\n",
       " 'Voxel Size (m)': 5,\n",
       " 'applicationId': None,\n",
       " 'units': None}"
      ]
     },
     "execution_count": 158,
     "metadata": {},
     "output_type": "execute_result"
    }
   ],
   "source": [
    "hash_id, obj_data = serializer.traverse_base(obj)\n",
    "obj_data[\"userStrings\"] "
   ]
  },
  {
   "cell_type": "code",
   "execution_count": 159,
   "metadata": {},
   "outputs": [
    {
     "data": {
      "text/plain": [
       "(218, 293, 10)"
      ]
     },
     "execution_count": 159,
     "metadata": {},
     "output_type": "execute_result"
    }
   ],
   "source": [
    "\n",
    "x_min = obj_data[\"userStrings\"]['Min Easting (m)']\n",
    "x_max = obj_data[\"userStrings\"]['Max Easting (m)']\n",
    "y_min = obj_data[\"userStrings\"]['Min Northing (m)']\n",
    "y_max = obj_data[\"userStrings\"]['Max Northing (m)']\n",
    "z_min = obj_data[\"userStrings\"]['Bottom z (mPD)']\n",
    "z_max = obj_data[\"userStrings\"]['Top z (mPD)']\n",
    "voxel_size = obj_data[\"userStrings\"][\"Voxel Size (m)\"]\n",
    "\n",
    "x_points = int((x_max - x_min) / voxel_size)\n",
    "y_points = int((y_max - y_min) / voxel_size)\n",
    "z_points = int((z_max - z_min) / voxel_size)\n",
    "\n",
    "x_points, y_points, z_points\n"
   ]
  },
  {
   "cell_type": "code",
   "execution_count": 175,
   "metadata": {},
   "outputs": [],
   "source": [
    "x_arr = [x_min + i * voxel_size for i in range(x_points)]\n",
    "y_arr = [y_min + i * voxel_size for i in range(y_points)]\n",
    "z_arr = [z_min + i * voxel_size for i in range(z_points)]\n",
    "\n",
    "df = pd.DataFrame(list(itertools.product(x_arr, y_arr, z_arr)), columns=[\"x\", \"y\", \"z\"])\n",
    "df = df + 2.5\n",
    "df.to_csv(\"points.csv\", index=False)\n",
    "\n",
    "\n",
    "    \n",
    "    \n",
    "    \n",
    "    \n"
   ]
  },
  {
   "cell_type": "code",
   "execution_count": 174,
   "metadata": {},
   "outputs": [
    {
     "data": {
      "text/html": [
       "<div>\n",
       "<style scoped>\n",
       "    .dataframe tbody tr th:only-of-type {\n",
       "        vertical-align: middle;\n",
       "    }\n",
       "\n",
       "    .dataframe tbody tr th {\n",
       "        vertical-align: top;\n",
       "    }\n",
       "\n",
       "    .dataframe thead th {\n",
       "        text-align: right;\n",
       "    }\n",
       "</style>\n",
       "<table border=\"1\" class=\"dataframe\">\n",
       "  <thead>\n",
       "    <tr style=\"text-align: right;\">\n",
       "      <th></th>\n",
       "      <th>x</th>\n",
       "      <th>y</th>\n",
       "      <th>z</th>\n",
       "    </tr>\n",
       "  </thead>\n",
       "  <tbody>\n",
       "    <tr>\n",
       "      <th>0</th>\n",
       "      <td>837757.5</td>\n",
       "      <td>819782.5</td>\n",
       "      <td>-47.5</td>\n",
       "    </tr>\n",
       "    <tr>\n",
       "      <th>1</th>\n",
       "      <td>837757.5</td>\n",
       "      <td>819782.5</td>\n",
       "      <td>-42.5</td>\n",
       "    </tr>\n",
       "    <tr>\n",
       "      <th>2</th>\n",
       "      <td>837757.5</td>\n",
       "      <td>819782.5</td>\n",
       "      <td>-37.5</td>\n",
       "    </tr>\n",
       "    <tr>\n",
       "      <th>3</th>\n",
       "      <td>837757.5</td>\n",
       "      <td>819782.5</td>\n",
       "      <td>-32.5</td>\n",
       "    </tr>\n",
       "    <tr>\n",
       "      <th>4</th>\n",
       "      <td>837757.5</td>\n",
       "      <td>819782.5</td>\n",
       "      <td>-27.5</td>\n",
       "    </tr>\n",
       "    <tr>\n",
       "      <th>...</th>\n",
       "      <td>...</td>\n",
       "      <td>...</td>\n",
       "      <td>...</td>\n",
       "    </tr>\n",
       "    <tr>\n",
       "      <th>638735</th>\n",
       "      <td>838842.5</td>\n",
       "      <td>821242.5</td>\n",
       "      <td>-22.5</td>\n",
       "    </tr>\n",
       "    <tr>\n",
       "      <th>638736</th>\n",
       "      <td>838842.5</td>\n",
       "      <td>821242.5</td>\n",
       "      <td>-17.5</td>\n",
       "    </tr>\n",
       "    <tr>\n",
       "      <th>638737</th>\n",
       "      <td>838842.5</td>\n",
       "      <td>821242.5</td>\n",
       "      <td>-12.5</td>\n",
       "    </tr>\n",
       "    <tr>\n",
       "      <th>638738</th>\n",
       "      <td>838842.5</td>\n",
       "      <td>821242.5</td>\n",
       "      <td>-7.5</td>\n",
       "    </tr>\n",
       "    <tr>\n",
       "      <th>638739</th>\n",
       "      <td>838842.5</td>\n",
       "      <td>821242.5</td>\n",
       "      <td>-2.5</td>\n",
       "    </tr>\n",
       "  </tbody>\n",
       "</table>\n",
       "<p>638740 rows × 3 columns</p>\n",
       "</div>"
      ],
      "text/plain": [
       "               x         y     z\n",
       "0       837757.5  819782.5 -47.5\n",
       "1       837757.5  819782.5 -42.5\n",
       "2       837757.5  819782.5 -37.5\n",
       "3       837757.5  819782.5 -32.5\n",
       "4       837757.5  819782.5 -27.5\n",
       "...          ...       ...   ...\n",
       "638735  838842.5  821242.5 -22.5\n",
       "638736  838842.5  821242.5 -17.5\n",
       "638737  838842.5  821242.5 -12.5\n",
       "638738  838842.5  821242.5  -7.5\n",
       "638739  838842.5  821242.5  -2.5\n",
       "\n",
       "[638740 rows x 3 columns]"
      ]
     },
     "execution_count": 174,
     "metadata": {},
     "output_type": "execute_result"
    }
   ],
   "source": [
    "df"
   ]
  },
  {
   "cell_type": "code",
   "execution_count": 170,
   "metadata": {},
   "outputs": [
    {
     "name": "stderr",
     "output_type": "stream",
     "text": [
      "Upload server response: Error inserting object in the database: Object too large. (139.117703 MB is > than limit, 10 MB)\n",
      "Error sending batch of objects to server: SpeckleException: Could not save the object to the server - status code 400 (Error inserting object in the database: Object too large. (139.117703 MB is > than limit, 10 MB))\n"
     ]
    },
    {
     "ename": "SpeckleException",
     "evalue": "SpeckleException: Could not save the object to the server - status code 400 (Error inserting object in the database: Object too large. (139.117703 MB is > than limit, 10 MB))",
     "output_type": "error",
     "traceback": [
      "\u001b[0;31m---------------------------------------------------------------------------\u001b[0m",
      "\u001b[0;31mSpeckleException\u001b[0m                          Traceback (most recent call last)",
      "Cell \u001b[0;32mIn[170], line 4\u001b[0m\n\u001b[1;32m      1\u001b[0m obj \u001b[38;5;241m=\u001b[39m Base()\n\u001b[1;32m      2\u001b[0m obj[\u001b[38;5;124m\"\u001b[39m\u001b[38;5;124mvoxels\u001b[39m\u001b[38;5;124m\"\u001b[39m] \u001b[38;5;241m=\u001b[39m points\n\u001b[0;32m----> 4\u001b[0m hash_id \u001b[38;5;241m=\u001b[39m \u001b[43moperations\u001b[49m\u001b[38;5;241;43m.\u001b[39;49m\u001b[43msend\u001b[49m\u001b[43m(\u001b[49m\u001b[43mobj\u001b[49m\u001b[43m,\u001b[49m\u001b[43m \u001b[49m\u001b[43m[\u001b[49m\u001b[43mtransport\u001b[49m\u001b[43m]\u001b[49m\u001b[43m)\u001b[49m\n",
      "File \u001b[0;32m~/Documents/git/speckle-hackathon/venv/lib/python3.11/site-packages/specklepy/api/operations.py:33\u001b[0m, in \u001b[0;36msend\u001b[0;34m(base, transports, use_default_cache)\u001b[0m\n\u001b[1;32m     30\u001b[0m \u001b[38;5;28;01melse\u001b[39;00m:\n\u001b[1;32m     31\u001b[0m     metrics\u001b[38;5;241m.\u001b[39mtrack(metrics\u001b[38;5;241m.\u001b[39mSEND, \u001b[38;5;28mgetattr\u001b[39m(transports[\u001b[38;5;241m0\u001b[39m], \u001b[38;5;124m\"\u001b[39m\u001b[38;5;124maccount\u001b[39m\u001b[38;5;124m\"\u001b[39m, \u001b[38;5;28;01mNone\u001b[39;00m))\n\u001b[0;32m---> 33\u001b[0m \u001b[38;5;28;01mreturn\u001b[39;00m \u001b[43mcore_send\u001b[49m\u001b[43m(\u001b[49m\u001b[43mbase\u001b[49m\u001b[43m,\u001b[49m\u001b[43m \u001b[49m\u001b[43mtransports\u001b[49m\u001b[43m,\u001b[49m\u001b[43m \u001b[49m\u001b[43muse_default_cache\u001b[49m\u001b[43m)\u001b[49m\n",
      "File \u001b[0;32m~/Documents/git/speckle-hackathon/venv/lib/python3.11/site-packages/specklepy/core/api/operations.py:47\u001b[0m, in \u001b[0;36msend\u001b[0;34m(base, transports, use_default_cache)\u001b[0m\n\u001b[1;32m     43\u001b[0m     transports\u001b[38;5;241m.\u001b[39minsert(\u001b[38;5;241m0\u001b[39m, SQLiteTransport())\n\u001b[1;32m     45\u001b[0m serializer \u001b[38;5;241m=\u001b[39m BaseObjectSerializer(write_transports\u001b[38;5;241m=\u001b[39mtransports)\n\u001b[0;32m---> 47\u001b[0m obj_hash, _ \u001b[38;5;241m=\u001b[39m \u001b[43mserializer\u001b[49m\u001b[38;5;241;43m.\u001b[39;49m\u001b[43mwrite_json\u001b[49m\u001b[43m(\u001b[49m\u001b[43mbase\u001b[49m\u001b[38;5;241;43m=\u001b[39;49m\u001b[43mbase\u001b[49m\u001b[43m)\u001b[49m\n\u001b[1;32m     49\u001b[0m \u001b[38;5;28;01mreturn\u001b[39;00m obj_hash\n",
      "File \u001b[0;32m~/Documents/git/speckle-hackathon/venv/lib/python3.11/site-packages/specklepy/serialization/base_object_serializer.py:71\u001b[0m, in \u001b[0;36mBaseObjectSerializer.write_json\u001b[0;34m(self, base)\u001b[0m\n\u001b[1;32m     61\u001b[0m \u001b[38;5;28;01mdef\u001b[39;00m \u001b[38;5;21mwrite_json\u001b[39m(\u001b[38;5;28mself\u001b[39m, base: Base):\n\u001b[1;32m     62\u001b[0m \u001b[38;5;250m    \u001b[39m\u001b[38;5;124;03m\"\"\"Serializes a given base object into a json string\u001b[39;00m\n\u001b[1;32m     63\u001b[0m \u001b[38;5;124;03m    Arguments:\u001b[39;00m\n\u001b[1;32m     64\u001b[0m \u001b[38;5;124;03m        base {Base} -- the base object to be decomposed and serialized\u001b[39;00m\n\u001b[0;32m   (...)\u001b[0m\n\u001b[1;32m     68\u001b[0m \u001b[38;5;124;03m        the serialized object string\u001b[39;00m\n\u001b[1;32m     69\u001b[0m \u001b[38;5;124;03m    \"\"\"\u001b[39;00m\n\u001b[0;32m---> 71\u001b[0m     obj_id, obj \u001b[38;5;241m=\u001b[39m \u001b[38;5;28;43mself\u001b[39;49m\u001b[38;5;241;43m.\u001b[39;49m\u001b[43mtraverse_base\u001b[49m\u001b[43m(\u001b[49m\u001b[43mbase\u001b[49m\u001b[43m)\u001b[49m\n\u001b[1;32m     73\u001b[0m     \u001b[38;5;28;01mreturn\u001b[39;00m obj_id, ujson\u001b[38;5;241m.\u001b[39mdumps(obj)\n",
      "File \u001b[0;32m~/Documents/git/speckle-hackathon/venv/lib/python3.11/site-packages/specklepy/serialization/base_object_serializer.py:95\u001b[0m, in \u001b[0;36mBaseObjectSerializer.traverse_base\u001b[0;34m(self, base)\u001b[0m\n\u001b[1;32m     93\u001b[0m \u001b[38;5;28;01mif\u001b[39;00m \u001b[38;5;28mself\u001b[39m\u001b[38;5;241m.\u001b[39mwrite_transports:\n\u001b[1;32m     94\u001b[0m     \u001b[38;5;28;01mfor\u001b[39;00m wt \u001b[38;5;129;01min\u001b[39;00m \u001b[38;5;28mself\u001b[39m\u001b[38;5;241m.\u001b[39mwrite_transports:\n\u001b[0;32m---> 95\u001b[0m         \u001b[43mwt\u001b[49m\u001b[38;5;241;43m.\u001b[39;49m\u001b[43mend_write\u001b[49m\u001b[43m(\u001b[49m\u001b[43m)\u001b[49m\n\u001b[1;32m     97\u001b[0m \u001b[38;5;28;01mreturn\u001b[39;00m obj_id, obj\n",
      "File \u001b[0;32m~/Documents/git/speckle-hackathon/venv/lib/python3.11/site-packages/specklepy/transports/server/server.py:108\u001b[0m, in \u001b[0;36mServerTransport.end_write\u001b[0;34m(self)\u001b[0m\n\u001b[1;32m    107\u001b[0m \u001b[38;5;28;01mdef\u001b[39;00m \u001b[38;5;21mend_write\u001b[39m(\u001b[38;5;28mself\u001b[39m) \u001b[38;5;241m-\u001b[39m\u001b[38;5;241m>\u001b[39m \u001b[38;5;28;01mNone\u001b[39;00m:\n\u001b[0;32m--> 108\u001b[0m     \u001b[38;5;28;43mself\u001b[39;49m\u001b[38;5;241;43m.\u001b[39;49m\u001b[43m_batch_sender\u001b[49m\u001b[38;5;241;43m.\u001b[39;49m\u001b[43mflush\u001b[49m\u001b[43m(\u001b[49m\u001b[43m)\u001b[49m\n",
      "File \u001b[0;32m~/Documents/git/speckle-hackathon/venv/lib/python3.11/site-packages/specklepy/transports/server/batch_sender.py:71\u001b[0m, in \u001b[0;36mBatchSender.flush\u001b[0;34m(self)\u001b[0m\n\u001b[1;32m     69\u001b[0m ex \u001b[38;5;241m=\u001b[39m \u001b[38;5;28mself\u001b[39m\u001b[38;5;241m.\u001b[39m_exception\n\u001b[1;32m     70\u001b[0m \u001b[38;5;28mself\u001b[39m\u001b[38;5;241m.\u001b[39m_exception \u001b[38;5;241m=\u001b[39m \u001b[38;5;28;01mNone\u001b[39;00m\n\u001b[0;32m---> 71\u001b[0m \u001b[38;5;28;01mraise\u001b[39;00m ex\n",
      "File \u001b[0;32m~/Documents/git/speckle-hackathon/venv/lib/python3.11/site-packages/specklepy/transports/server/batch_sender.py:89\u001b[0m, in \u001b[0;36mBatchSender._sending_thread_main\u001b[0;34m(self)\u001b[0m\n\u001b[1;32m     86\u001b[0m     \u001b[38;5;28;01mbreak\u001b[39;00m\n\u001b[1;32m     88\u001b[0m \u001b[38;5;28;01mtry\u001b[39;00m:\n\u001b[0;32m---> 89\u001b[0m     \u001b[38;5;28;43mself\u001b[39;49m\u001b[38;5;241;43m.\u001b[39;49m\u001b[43m_bg_send_batch\u001b[49m\u001b[43m(\u001b[49m\u001b[43msession\u001b[49m\u001b[43m,\u001b[49m\u001b[43m \u001b[49m\u001b[43mbatch\u001b[49m\u001b[43m)\u001b[49m\n\u001b[1;32m     90\u001b[0m \u001b[38;5;28;01mexcept\u001b[39;00m \u001b[38;5;167;01mException\u001b[39;00m \u001b[38;5;28;01mas\u001b[39;00m ex:\n\u001b[1;32m     91\u001b[0m     \u001b[38;5;28mself\u001b[39m\u001b[38;5;241m.\u001b[39m_exception \u001b[38;5;241m=\u001b[39m \u001b[38;5;28mself\u001b[39m\u001b[38;5;241m.\u001b[39m_exception \u001b[38;5;129;01mor\u001b[39;00m ex\n",
      "File \u001b[0;32m~/Documents/git/speckle-hackathon/venv/lib/python3.11/site-packages/specklepy/transports/server/batch_sender.py:137\u001b[0m, in \u001b[0;36mBatchSender._bg_send_batch\u001b[0;34m(self, session, batch)\u001b[0m\n\u001b[1;32m    135\u001b[0m     \u001b[38;5;28;01mif\u001b[39;00m r\u001b[38;5;241m.\u001b[39mstatus_code \u001b[38;5;241m!=\u001b[39m \u001b[38;5;241m201\u001b[39m:\n\u001b[1;32m    136\u001b[0m         LOG\u001b[38;5;241m.\u001b[39mwarning(\u001b[38;5;124m\"\u001b[39m\u001b[38;5;124mUpload server response: \u001b[39m\u001b[38;5;132;01m%s\u001b[39;00m\u001b[38;5;124m\"\u001b[39m, r\u001b[38;5;241m.\u001b[39mtext)\n\u001b[0;32m--> 137\u001b[0m         \u001b[38;5;28;01mraise\u001b[39;00m SpeckleException(\n\u001b[1;32m    138\u001b[0m             message\u001b[38;5;241m=\u001b[39m(\n\u001b[1;32m    139\u001b[0m                 \u001b[38;5;124m\"\u001b[39m\u001b[38;5;124mCould not save the object to the server - status code\u001b[39m\u001b[38;5;124m\"\u001b[39m\n\u001b[1;32m    140\u001b[0m                 \u001b[38;5;124mf\u001b[39m\u001b[38;5;124m\"\u001b[39m\u001b[38;5;124m \u001b[39m\u001b[38;5;132;01m{\u001b[39;00mr\u001b[38;5;241m.\u001b[39mstatus_code\u001b[38;5;132;01m}\u001b[39;00m\u001b[38;5;124m (\u001b[39m\u001b[38;5;132;01m{\u001b[39;00mr\u001b[38;5;241m.\u001b[39mtext[:\u001b[38;5;241m1000\u001b[39m]\u001b[38;5;132;01m}\u001b[39;00m\u001b[38;5;124m)\u001b[39m\u001b[38;5;124m\"\u001b[39m\n\u001b[1;32m    141\u001b[0m             )\n\u001b[1;32m    142\u001b[0m         )\n\u001b[1;32m    143\u001b[0m \u001b[38;5;28;01mexcept\u001b[39;00m json\u001b[38;5;241m.\u001b[39mJSONDecodeError \u001b[38;5;28;01mas\u001b[39;00m error:\n\u001b[1;32m    144\u001b[0m     \u001b[38;5;28;01mreturn\u001b[39;00m SpeckleException(\n\u001b[1;32m    145\u001b[0m         \u001b[38;5;124mf\u001b[39m\u001b[38;5;124m\"\u001b[39m\u001b[38;5;124mFailed to send objects to \u001b[39m\u001b[38;5;132;01m{\u001b[39;00m\u001b[38;5;28mself\u001b[39m\u001b[38;5;241m.\u001b[39mserver_url\u001b[38;5;132;01m}\u001b[39;00m\u001b[38;5;124m. Please ensure this\u001b[39m\u001b[38;5;124m\"\u001b[39m\n\u001b[1;32m    146\u001b[0m         \u001b[38;5;124mf\u001b[39m\u001b[38;5;124m\"\u001b[39m\u001b[38;5;124m stream (\u001b[39m\u001b[38;5;132;01m{\u001b[39;00m\u001b[38;5;28mself\u001b[39m\u001b[38;5;241m.\u001b[39mstream_id\u001b[38;5;132;01m}\u001b[39;00m\u001b[38;5;124m) exists on this server and that you have\u001b[39m\u001b[38;5;124m\"\u001b[39m\n\u001b[1;32m    147\u001b[0m         \u001b[38;5;124m\"\u001b[39m\u001b[38;5;124m permission to send to it.\u001b[39m\u001b[38;5;124m\"\u001b[39m,\n\u001b[1;32m    148\u001b[0m         error,\n\u001b[1;32m    149\u001b[0m     )\n",
      "\u001b[0;31mSpeckleException\u001b[0m: SpeckleException: Could not save the object to the server - status code 400 (Error inserting object in the database: Object too large. (139.117703 MB is > than limit, 10 MB))"
     ]
    }
   ],
   "source": [
    "obj = Base()\n",
    "obj[\"voxels\"] = points\n",
    "\n",
    "hash_id = operations.send(obj, [transport])\n"
   ]
  },
  {
   "cell_type": "code",
   "execution_count": null,
   "metadata": {},
   "outputs": [],
   "source": []
  },
  {
   "cell_type": "code",
   "execution_count": 161,
   "metadata": {},
   "outputs": [],
   "source": [
    "object_id = \"1a98b24773c42b01be65b71f63ee14bc\"\n",
    "start_end_points = operations.receive(object_id, transport)"
   ]
  },
  {
   "cell_type": "code",
   "execution_count": 162,
   "metadata": {},
   "outputs": [],
   "source": [
    "_, start_end_points_data = serializer.traverse_base(start_end_points)\n",
    "with open(\"start_end_points.json\", \"w\") as f:\n",
    "    json.dump(start_end_points_data, f)"
   ]
  },
  {
   "cell_type": "code",
   "execution_count": 163,
   "metadata": {},
   "outputs": [],
   "source": [
    "start_point = start_end_points_data[\"elements\"][1][\"elements\"][0]\n",
    "end_points = start_end_points_data[\"elements\"][0]\n",
    "\n",
    "start = {\n",
    "    \"x\" : start_point[\"x\"],\n",
    "    \"y\" : start_point[\"y\"],\n",
    "    \"z\" : start_point[\"z\"]\n",
    "}\n",
    "end_points = [\n",
    "    {\n",
    "        \"x\" : end_point[\"x\"],\n",
    "        \"y\" : end_point[\"y\"],\n",
    "        \"z\" : end_point[\"z\"]\n",
    "    }\n",
    "    for end_point in end_points[\"elements\"]\n",
    "]"
   ]
  },
  {
   "cell_type": "code",
   "execution_count": 164,
   "metadata": {},
   "outputs": [
    {
     "data": {
      "text/plain": [
       "[{'x': 838545.0, 'y': 821225.0, 'z': 0.0},\n",
       " {'x': 837775.0, 'y': 820755.0, 'z': 0.0}]"
      ]
     },
     "execution_count": 164,
     "metadata": {},
     "output_type": "execute_result"
    }
   ],
   "source": [
    "end_points"
   ]
  },
  {
   "cell_type": "code",
   "execution_count": 165,
   "metadata": {},
   "outputs": [],
   "source": [
    "start_index = {\n",
    "    \"x\" : int((start[\"x\"] - x_min) / voxel_size),\n",
    "    \"y\" : int((start[\"y\"] - y_min) / voxel_size),\n",
    "    \"z\" : int((start[\"z\"] - z_min) / voxel_size)\n",
    "}"
   ]
  },
  {
   "cell_type": "code",
   "execution_count": 166,
   "metadata": {},
   "outputs": [
    {
     "data": {
      "text/plain": [
       "{'x': 214, 'y': 4, 'z': 10}"
      ]
     },
     "execution_count": 166,
     "metadata": {},
     "output_type": "execute_result"
    }
   ],
   "source": [
    "start_index"
   ]
  },
  {
   "cell_type": "code",
   "execution_count": 167,
   "metadata": {},
   "outputs": [],
   "source": [
    "end_indices = [\n",
    "    {\n",
    "        \"x\" : int((end_point[\"x\"] - x_min) / voxel_size),\n",
    "        \"y\" : int((end_point[\"y\"] - y_min) / voxel_size),\n",
    "        \"z\" : int((end_point[\"z\"] - z_min) / voxel_size)\n",
    "    }\n",
    "    for end_point in end_points\n",
    "]\n",
    "\n"
   ]
  },
  {
   "cell_type": "code",
   "execution_count": 168,
   "metadata": {},
   "outputs": [],
   "source": [
    "# In summary the data is as follows:\n",
    "\n",
    "\n",
    "\n"
   ]
  }
 ],
 "metadata": {
  "kernelspec": {
   "display_name": "venv",
   "language": "python",
   "name": "python3"
  },
  "language_info": {
   "codemirror_mode": {
    "name": "ipython",
    "version": 3
   },
   "file_extension": ".py",
   "mimetype": "text/x-python",
   "name": "python",
   "nbconvert_exporter": "python",
   "pygments_lexer": "ipython3",
   "version": "3.11.9"
  }
 },
 "nbformat": 4,
 "nbformat_minor": 2
}
